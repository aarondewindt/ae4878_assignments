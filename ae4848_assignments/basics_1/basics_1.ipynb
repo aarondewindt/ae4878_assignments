{
 "cells": [
  {
   "cell_type": "markdown",
   "id": "according-mandate",
   "metadata": {},
   "source": [
    "# Basics 1: Coordinate transformations\n",
    "\n",
    "1. Convert the following state-vector from Cartesian components to Kepler elements:  \n",
    "   $x=8751268.4691\\ [m]$  \n",
    "   $y=-7041314.6869\\ [m]$  \n",
    "   $z=4846546.9938\\ [m]$  \n",
    "   $\\dot{x}=332.2601039\\ [m s^{-1}]$  \n",
    "   $\\dot{y}=-2977.0815768\\ [m s^{-1}]$  \n",
    "   $\\dot{z}=-4869.8462227\\ [m s^{-1}]$\n",
    "2. Convert the following state-vector from Kepler elements to Cartesian components:\n",
    "   $a=12158817.9615\\ [m]$  \n",
    "   $e=0.014074320051\\ [m]$  \n",
    "   $i=52.666016957\\ [deg]$  \n",
    "   $RAAN=323.089150643\\ [deg]$  \n",
    "   $\\omega=148.382589129\\ [deg]$  \n",
    "   $M=112.192638384\\ [deg]$  "
   ]
  },
  {
   "cell_type": "markdown",
   "id": "selective-karen",
   "metadata": {},
   "source": [
    "## Initialization and unit testing"
   ]
  },
  {
   "cell_type": "code",
   "execution_count": 7,
   "id": "invisible-province",
   "metadata": {},
   "outputs": [],
   "source": [
    "from math import degrees, radians\n",
    "import numpy as np\n",
    "import numpy.testing as npt\n",
    "from transformations import cartesian_to_kepler, kepler_to_cartesian"
   ]
  },
  {
   "cell_type": "code",
   "execution_count": 2,
   "id": "oriented-carol",
   "metadata": {},
   "outputs": [
    {
     "name": "stdout",
     "output_type": "stream",
     "text": [
      ".......\n",
      "----------------------------------------------------------------------\n",
      "Ran 7 tests in 0.014s\n",
      "\n",
      "OK\n"
     ]
    }
   ],
   "source": [
    "# Run unittests\n",
    "! python -m unittest discover ./"
   ]
  },
  {
   "cell_type": "markdown",
   "id": "postal-morgan",
   "metadata": {},
   "source": [
    "## 1. Cartesian -> Kepler"
   ]
  },
  {
   "cell_type": "code",
   "execution_count": 6,
   "id": "centered-powell",
   "metadata": {},
   "outputs": [
    {
     "name": "stdout",
     "output_type": "stream",
     "text": [
      "a=12273086.180973208\n",
      "e=0.005022166693730592\n",
      "degrees(i)=109.818773825313\n",
      "degrees(raan)=132.23369779015522\n",
      "degrees(omega)=105.06673298740603\n",
      "degrees(true_anomaly)=50.02799134864682\n",
      "degrees(eccentric_anomaly)=49.80782656785884\n",
      "degrees(mean_anomaly)=49.58801968983559\n"
     ]
    }
   ],
   "source": [
    "position = [8751268.4691, -7041314.6869, 4846546.9938]\n",
    "velocity = [332.2601039, -2977.0815768, -4869.8462227]\n",
    "\n",
    "# Transform to kepler elements\n",
    "a, e, i, raan, omega, true_anomaly, eccentric_anomaly, mean_anomaly = cartesian_to_kepler(\n",
    "    r=position,\n",
    "    v=velocity,\n",
    ")\n",
    "\n",
    "# Print results\n",
    "print(f\"{a=}\")\n",
    "print(f\"{e=}\")\n",
    "print(f\"{degrees(i)=}\")\n",
    "print(f\"{degrees(raan)=}\")\n",
    "print(f\"{degrees(omega)=}\")\n",
    "print(f\"{degrees(true_anomaly)=}\")\n",
    "print(f\"{degrees(eccentric_anomaly)=}\")\n",
    "print(f\"{degrees(mean_anomaly)=}\")"
   ]
  },
  {
   "cell_type": "code",
   "execution_count": 9,
   "id": "micro-hardware",
   "metadata": {},
   "outputs": [],
   "source": [
    "# Check\n",
    "position_2, velocity_2 = kepler_to_cartesian(\n",
    "    a=a,\n",
    "    e=e,\n",
    "    i=i,\n",
    "    raan=raan,\n",
    "    omega=omega,\n",
    "    mean_anomaly=mean_anomaly\n",
    ")\n",
    "npt.assert_allclose(position_2, position)\n",
    "npt.assert_allclose(velocity_2, velocity)"
   ]
  },
  {
   "cell_type": "markdown",
   "id": "stainless-opinion",
   "metadata": {},
   "source": [
    "## 2. Kepler -> Cartesian"
   ]
  },
  {
   "cell_type": "code",
   "execution_count": 4,
   "id": "toxic-benchmark",
   "metadata": {},
   "outputs": [
    {
     "name": "stdout",
     "output_type": "stream",
     "text": [
      "position=array([-5760654.23005053, -4856967.48824368, -9627444.86215477])\n",
      "velocity=array([ 4187.66125138, -3797.5451854 ,  -683.61512604])\n"
     ]
    }
   ],
   "source": [
    "a=12158817.9615,\n",
    "e=0.014074320051,\n",
    "i=radians(52.666016957),\n",
    "raan=radians(323.089150643),\n",
    "omega=radians(148.382589129),\n",
    "mean_anomaly=radians(112.192638384),\n",
    "\n",
    "# Transform to cartesian components\n",
    "position, velocity = kepler_to_cartesian(\n",
    "    a=a,\n",
    "    e=e,\n",
    "    i=i,\n",
    "    raan=raan,\n",
    "    omega=omega,\n",
    "    mean_anomaly=mean_anomaly,\n",
    ")\n",
    "\n",
    "# Print results\n",
    "print(f\"{position=}\")\n",
    "print(f\"{velocity=}\")"
   ]
  },
  {
   "cell_type": "code",
   "execution_count": 11,
   "id": "iraqi-italian",
   "metadata": {},
   "outputs": [],
   "source": [
    "# Check\n",
    "a_2, e_2, i_2, raan_2, omega_2, true_anomaly_2, \\\n",
    "    eccentric_anomaly_2, mean_anomaly_2 = cartesian_to_kepler(\n",
    "        r=position,\n",
    "        v=velocity,\n",
    ")\n",
    "\n",
    "npt.assert_allclose(a_2, a)\n",
    "npt.assert_allclose(e_2, e)\n",
    "npt.assert_allclose(i_2, i)\n",
    "npt.assert_allclose(raan_2, raan)\n",
    "npt.assert_allclose(omega_2, omega)\n",
    "npt.assert_allclose(mean_anomaly_2, mean_anomaly)"
   ]
  },
  {
   "cell_type": "code",
   "execution_count": null,
   "id": "apparent-reminder",
   "metadata": {},
   "outputs": [],
   "source": []
  }
 ],
 "metadata": {
  "kernelspec": {
   "display_name": "Python 3",
   "language": "python",
   "name": "python3"
  },
  "language_info": {
   "codemirror_mode": {
    "name": "ipython",
    "version": 3
   },
   "file_extension": ".py",
   "mimetype": "text/x-python",
   "name": "python",
   "nbconvert_exporter": "python",
   "pygments_lexer": "ipython3",
   "version": "3.8.8"
  }
 },
 "nbformat": 4,
 "nbformat_minor": 5
}
