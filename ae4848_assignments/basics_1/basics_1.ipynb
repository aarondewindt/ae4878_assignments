{
 "cells": [
  {
   "cell_type": "markdown",
   "id": "played-compromise",
   "metadata": {},
   "source": [
    "# Basics 1: Coordinate transformations\n",
    "\n",
    "1. Convert the following state-vector from Cartesian components to Kepler elements:  \n",
    "   $x=8751268.4691\\ [m]$  \n",
    "   $y=-7041314.6869\\ [m]$  \n",
    "   $z=4846546.9938\\ [m]$  \n",
    "   $\\dot{x}=332.2601039\\ [m s^{-1}]$  \n",
    "   $\\dot{y}=-2977.0815768\\ [m s^{-1}]$  \n",
    "   $\\dot{z}=-4869.8462227\\ [m s^{-1}]$\n",
    "2. Convert the following state-vector from Kepler elements to Cartesian components:\n",
    "   $a=12158817.9615\\ [m]$  \n",
    "   $e=0.014074320051\\ [m]$  \n",
    "   $i=52.666016957\\ [deg]$  \n",
    "   $RAAN=323.089150643\\ [deg]$  \n",
    "   $\\omega=148.382589129\\ [deg]$  \n",
    "   $M=112.192638384\\ [deg]$  "
   ]
  },
  {
   "cell_type": "markdown",
   "id": "adolescent-convention",
   "metadata": {},
   "source": [
    "## Initialization and unit testing"
   ]
  },
  {
   "cell_type": "code",
   "execution_count": 1,
   "id": "sweet-acceptance",
   "metadata": {},
   "outputs": [],
   "source": [
    "import numpy as np\n",
    "from transformations import cartesian_to_kepler, kepler_to_cartesian"
   ]
  },
  {
   "cell_type": "code",
   "execution_count": 2,
   "id": "former-rehabilitation",
   "metadata": {},
   "outputs": [
    {
     "name": "stdout",
     "output_type": "stream",
     "text": [
      "......\n",
      "----------------------------------------------------------------------\n",
      "Ran 6 tests in 0.003s\n",
      "\n",
      "OK\n"
     ]
    }
   ],
   "source": [
    "! python -m unittest discover ./"
   ]
  },
  {
   "cell_type": "markdown",
   "id": "bound-consensus",
   "metadata": {},
   "source": [
    "## 1. Cartesian -> Kepler"
   ]
  },
  {
   "cell_type": "code",
   "execution_count": 3,
   "id": "french-future",
   "metadata": {},
   "outputs": [
    {
     "name": "stdout",
     "output_type": "stream",
     "text": [
      "a=12273086.180973208\n",
      "e=0.005022166693730592\n",
      "i=1.91669918375468\n",
      "raan=2.3079134085253585\n",
      "omega=1.8337604249439725\n",
      "theta=0.8731531671931254\n"
     ]
    }
   ],
   "source": [
    "# Transform to kepler elements\n",
    "a, e, i, raan, omega, theta, e_ano, m = cartesian_to_kepler(\n",
    "    r=[8751268.4691, -7041314.6869, 4846546.9938],  # Position\n",
    "    v=[332.2601039, -2977.0815768, -4869.8462227],  # Velocity\n",
    ")\n",
    "\n",
    "# Print results\n",
    "print(f\"{a=}\")\n",
    "print(f\"{e=}\")\n",
    "print(f\"{i=}\")\n",
    "print(f\"{raan=}\")\n",
    "print(f\"{omega=}\")\n",
    "print(f\"{theta=}\")"
   ]
  },
  {
   "cell_type": "markdown",
   "id": "several-scheme",
   "metadata": {},
   "source": [
    "## 2. Kepler -> Cartesian"
   ]
  },
  {
   "cell_type": "code",
   "execution_count": 5,
   "id": "received-drunk",
   "metadata": {},
   "outputs": [
    {
     "name": "stdout",
     "output_type": "stream",
     "text": [
      "r=array([-5760654.23005053, -4856967.48824367, -9627444.86215477])\n",
      "v=array([ 4187.66125138, -3797.5451854 ,  -683.61512604])\n"
     ]
    }
   ],
   "source": [
    "# Transform to cartesian components\n",
    "r, v = kepler_to_cartesian(\n",
    "    a=12158817.9615,\n",
    "    e=0.014074320051,\n",
    "    i=np.radians(52.666016957),\n",
    "    raan=np.radians(323.089150643),\n",
    "    omega=np.radians(148.382589129),\n",
    "    m=np.radians(112.192638384),\n",
    ")\n",
    "\n",
    "# Print results\n",
    "print(f\"{r=}\")\n",
    "print(f\"{v=}\")"
   ]
  },
  {
   "cell_type": "code",
   "execution_count": null,
   "id": "wooden-inside",
   "metadata": {},
   "outputs": [],
   "source": []
  }
 ],
 "metadata": {
  "kernelspec": {
   "display_name": "Python 3",
   "language": "python",
   "name": "python3"
  },
  "language_info": {
   "codemirror_mode": {
    "name": "ipython",
    "version": 3
   },
   "file_extension": ".py",
   "mimetype": "text/x-python",
   "name": "python",
   "nbconvert_exporter": "python",
   "pygments_lexer": "ipython3",
   "version": "3.8.8"
  }
 },
 "nbformat": 4,
 "nbformat_minor": 5
}
